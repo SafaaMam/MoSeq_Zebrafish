{
  "cells": [
    {
      "cell_type": "markdown",
      "id": "preliminary-agency",
      "metadata": {
        "id": "preliminary-agency"
      },
      "source": [
        "This notebook shows how to setup a new project, train a keypoint-MoSeq model and visualize the resulting syllables.\n",
        "\n",
        "**Total run time: ~90 min.**\n",
        "\n",
        "# Colab setup\n",
        "\n",
        "- Make a copy of this notebook if you plan to make changes and want them saved.\n",
        "- Go to \"Runtime\">\"change runtime type\" and select \"Python 3\" and \"GPU\""
      ]
    },
    {
      "cell_type": "markdown",
      "id": "aaab50c4",
      "metadata": {
        "id": "aaab50c4"
      },
      "source": [
        "### Install keypoint MoSeq"
      ]
    },
    {
      "cell_type": "code",
      "execution_count": 25,
      "id": "84990f8c",
      "metadata": {
        "id": "84990f8c",
        "outputId": "e268f0e6-8d03-40d7-9441-99b365f6a7da",
        "colab": {
          "base_uri": "https://localhost:8080/"
        }
      },
      "outputs": [
        {
          "output_type": "stream",
          "name": "stdout",
          "text": [
            "Requirement already satisfied: keypoint-moseq in /usr/local/lib/python3.12/dist-packages (0.6.3)\n",
            "Requirement already satisfied: seaborn==0.13.0 in /usr/local/lib/python3.12/dist-packages (from keypoint-moseq) (0.13.0)\n",
            "Requirement already satisfied: cytoolz in /usr/local/lib/python3.12/dist-packages (from keypoint-moseq) (1.0.1)\n",
            "Requirement already satisfied: matplotlib==3.8.4 in /usr/local/lib/python3.12/dist-packages (from keypoint-moseq) (3.8.4)\n",
            "Requirement already satisfied: tqdm in /usr/local/lib/python3.12/dist-packages (from keypoint-moseq) (4.67.1)\n",
            "Requirement already satisfied: ipykernel in /usr/local/lib/python3.12/dist-packages (from keypoint-moseq) (6.17.1)\n",
            "Requirement already satisfied: imageio[ffmpeg] in /usr/local/lib/python3.12/dist-packages (from keypoint-moseq) (2.37.0)\n",
            "Requirement already satisfied: statsmodels in /usr/local/lib/python3.12/dist-packages (from keypoint-moseq) (0.14.5)\n",
            "Requirement already satisfied: pyyaml in /usr/local/lib/python3.12/dist-packages (from keypoint-moseq) (6.0.2)\n",
            "Requirement already satisfied: vidio in /usr/local/lib/python3.12/dist-packages (from keypoint-moseq) (0.0.4)\n",
            "Requirement already satisfied: holoviews[recommended] in /usr/local/lib/python3.12/dist-packages (from keypoint-moseq) (1.15.4)\n",
            "Requirement already satisfied: bokeh in /usr/local/lib/python3.12/dist-packages (from keypoint-moseq) (2.4.3)\n",
            "Requirement already satisfied: pandas in /usr/local/lib/python3.12/dist-packages (from keypoint-moseq) (2.2.2)\n",
            "Requirement already satisfied: tables in /usr/local/lib/python3.12/dist-packages (from keypoint-moseq) (3.10.2)\n",
            "Requirement already satisfied: panel==0.14.4 in /usr/local/lib/python3.12/dist-packages (from keypoint-moseq) (0.14.4)\n",
            "Requirement already satisfied: networkx in /usr/local/lib/python3.12/dist-packages (from keypoint-moseq) (3.5)\n",
            "Requirement already satisfied: sleap-io in /usr/local/lib/python3.12/dist-packages (from keypoint-moseq) (0.5.3)\n",
            "Requirement already satisfied: pynwb in /usr/local/lib/python3.12/dist-packages (from keypoint-moseq) (3.1.2)\n",
            "Requirement already satisfied: ndx-pose in /usr/local/lib/python3.12/dist-packages (from keypoint-moseq) (0.2.2)\n",
            "Requirement already satisfied: plotly in /usr/local/lib/python3.12/dist-packages (from keypoint-moseq) (5.24.1)\n",
            "Requirement already satisfied: ipython-genutils in /usr/local/lib/python3.12/dist-packages (from keypoint-moseq) (0.2.0)\n",
            "Requirement already satisfied: tabulate in /usr/local/lib/python3.12/dist-packages (from keypoint-moseq) (0.9.0)\n",
            "Requirement already satisfied: commentjson in /usr/local/lib/python3.12/dist-packages (from keypoint-moseq) (0.9.0)\n",
            "Requirement already satisfied: jax-moseq in /usr/local/lib/python3.12/dist-packages (from keypoint-moseq) (0.3.3)\n",
            "Requirement already satisfied: numpy<=1.26.4 in /usr/local/lib/python3.12/dist-packages (from keypoint-moseq) (1.26.4)\n",
            "Requirement already satisfied: ipywidgets in /usr/local/lib/python3.12/dist-packages (from keypoint-moseq) (7.7.1)\n",
            "Requirement already satisfied: ipympl in /usr/local/lib/python3.12/dist-packages (from keypoint-moseq) (0.9.7)\n",
            "Requirement already satisfied: Jinja2>=2.9 in /usr/local/lib/python3.12/dist-packages (from bokeh->keypoint-moseq) (3.1.6)\n",
            "Requirement already satisfied: packaging>=16.8 in /usr/local/lib/python3.12/dist-packages (from bokeh->keypoint-moseq) (25.0)\n",
            "Requirement already satisfied: pillow>=7.1.0 in /usr/local/lib/python3.12/dist-packages (from bokeh->keypoint-moseq) (11.3.0)\n",
            "Requirement already satisfied: tornado>=5.1 in /usr/local/lib/python3.12/dist-packages (from bokeh->keypoint-moseq) (6.4.2)\n",
            "Requirement already satisfied: typing-extensions>=3.10.0 in /usr/local/lib/python3.12/dist-packages (from bokeh->keypoint-moseq) (4.15.0)\n",
            "Requirement already satisfied: param<2.0,>=1.9.3 in /usr/local/lib/python3.12/dist-packages (from holoviews[recommended]->keypoint-moseq) (1.13.0)\n",
            "Requirement already satisfied: pyviz-comms>=0.7.4 in /usr/local/lib/python3.12/dist-packages (from holoviews[recommended]->keypoint-moseq) (3.0.6)\n",
            "Requirement already satisfied: colorcet in /usr/local/lib/python3.12/dist-packages (from holoviews[recommended]->keypoint-moseq) (3.1.0)\n",
            "Requirement already satisfied: contourpy>=1.0.1 in /usr/local/lib/python3.12/dist-packages (from matplotlib==3.8.4->keypoint-moseq) (1.3.3)\n",
            "Requirement already satisfied: cycler>=0.10 in /usr/local/lib/python3.12/dist-packages (from matplotlib==3.8.4->keypoint-moseq) (0.12.1)\n",
            "Requirement already satisfied: fonttools>=4.22.0 in /usr/local/lib/python3.12/dist-packages (from matplotlib==3.8.4->keypoint-moseq) (4.59.2)\n",
            "Requirement already satisfied: kiwisolver>=1.3.1 in /usr/local/lib/python3.12/dist-packages (from matplotlib==3.8.4->keypoint-moseq) (1.4.9)\n",
            "Requirement already satisfied: pyparsing>=2.3.1 in /usr/local/lib/python3.12/dist-packages (from matplotlib==3.8.4->keypoint-moseq) (3.2.3)\n",
            "Requirement already satisfied: python-dateutil>=2.7 in /usr/local/lib/python3.12/dist-packages (from matplotlib==3.8.4->keypoint-moseq) (2.9.0.post0)\n",
            "Requirement already satisfied: markdown in /usr/local/lib/python3.12/dist-packages (from panel==0.14.4->keypoint-moseq) (3.9)\n",
            "Requirement already satisfied: requests in /usr/local/lib/python3.12/dist-packages (from panel==0.14.4->keypoint-moseq) (2.32.4)\n",
            "Requirement already satisfied: pyct>=0.4.4 in /usr/local/lib/python3.12/dist-packages (from panel==0.14.4->keypoint-moseq) (0.5.0)\n",
            "Requirement already satisfied: bleach in /usr/local/lib/python3.12/dist-packages (from panel==0.14.4->keypoint-moseq) (6.2.0)\n",
            "Requirement already satisfied: setuptools>=42 in /usr/local/lib/python3.12/dist-packages (from panel==0.14.4->keypoint-moseq) (75.2.0)\n",
            "Requirement already satisfied: pytz>=2020.1 in /usr/local/lib/python3.12/dist-packages (from pandas->keypoint-moseq) (2025.2)\n",
            "Requirement already satisfied: tzdata>=2022.7 in /usr/local/lib/python3.12/dist-packages (from pandas->keypoint-moseq) (2025.2)\n",
            "Requirement already satisfied: lark-parser<0.8.0,>=0.7.1 in /usr/local/lib/python3.12/dist-packages (from commentjson->keypoint-moseq) (0.7.8)\n",
            "Requirement already satisfied: toolz>=0.8.0 in /usr/local/lib/python3.12/dist-packages (from cytoolz->keypoint-moseq) (0.12.1)\n",
            "Requirement already satisfied: ipython>=5.4.0 in /usr/local/lib/python3.12/dist-packages (from holoviews[recommended]->keypoint-moseq) (7.34.0)\n",
            "Requirement already satisfied: notebook in /usr/local/lib/python3.12/dist-packages (from holoviews[recommended]->keypoint-moseq) (6.5.7)\n",
            "Requirement already satisfied: imageio-ffmpeg in /usr/local/lib/python3.12/dist-packages (from imageio[ffmpeg]->keypoint-moseq) (0.6.0)\n",
            "Requirement already satisfied: psutil in /usr/local/lib/python3.12/dist-packages (from imageio[ffmpeg]->keypoint-moseq) (5.9.5)\n",
            "Requirement already satisfied: debugpy>=1.0 in /usr/local/lib/python3.12/dist-packages (from ipykernel->keypoint-moseq) (1.8.15)\n",
            "Requirement already satisfied: jupyter-client>=6.1.12 in /usr/local/lib/python3.12/dist-packages (from ipykernel->keypoint-moseq) (7.4.9)\n",
            "Requirement already satisfied: matplotlib-inline>=0.1 in /usr/local/lib/python3.12/dist-packages (from ipykernel->keypoint-moseq) (0.1.7)\n",
            "Requirement already satisfied: nest-asyncio in /usr/local/lib/python3.12/dist-packages (from ipykernel->keypoint-moseq) (1.6.0)\n",
            "Requirement already satisfied: pyzmq>=17 in /usr/local/lib/python3.12/dist-packages (from ipykernel->keypoint-moseq) (26.2.1)\n",
            "Requirement already satisfied: traitlets>=5.1.0 in /usr/local/lib/python3.12/dist-packages (from ipykernel->keypoint-moseq) (5.7.1)\n",
            "Requirement already satisfied: widgetsnbextension~=3.6.0 in /usr/local/lib/python3.12/dist-packages (from ipywidgets->keypoint-moseq) (3.6.10)\n",
            "Requirement already satisfied: jupyterlab-widgets>=1.0.0 in /usr/local/lib/python3.12/dist-packages (from ipywidgets->keypoint-moseq) (3.0.15)\n",
            "Requirement already satisfied: numba>=0.56.4 in /usr/local/lib/python3.12/dist-packages (from jax-moseq->keypoint-moseq) (0.60.0)\n",
            "Requirement already satisfied: dynamax>=0.1.2 in /usr/local/lib/python3.12/dist-packages (from jax-moseq->keypoint-moseq) (1.0.1)\n",
            "Requirement already satisfied: optree in /usr/local/lib/python3.12/dist-packages (from jax-moseq->keypoint-moseq) (0.17.0)\n",
            "Requirement already satisfied: hdmf>=3.13.0 in /usr/local/lib/python3.12/dist-packages (from ndx-pose->keypoint-moseq) (4.1.0)\n",
            "Requirement already satisfied: h5py>=3.2.0 in /usr/local/lib/python3.12/dist-packages (from pynwb->keypoint-moseq) (3.14.0)\n",
            "Requirement already satisfied: platformdirs>=4.1.0 in /usr/local/lib/python3.12/dist-packages (from pynwb->keypoint-moseq) (4.4.0)\n",
            "Requirement already satisfied: tenacity>=6.2.0 in /usr/local/lib/python3.12/dist-packages (from plotly->keypoint-moseq) (8.5.0)\n",
            "Requirement already satisfied: attrs in /usr/local/lib/python3.12/dist-packages (from sleap-io->keypoint-moseq) (25.3.0)\n",
            "Requirement already satisfied: simplejson in /usr/local/lib/python3.12/dist-packages (from sleap-io->keypoint-moseq) (3.20.1)\n",
            "Requirement already satisfied: tifffile in /usr/local/lib/python3.12/dist-packages (from sleap-io->keypoint-moseq) (2025.8.28)\n",
            "Requirement already satisfied: scipy!=1.9.2,>=1.8 in /usr/local/lib/python3.12/dist-packages (from statsmodels->keypoint-moseq) (1.16.1)\n",
            "Requirement already satisfied: patsy>=0.5.6 in /usr/local/lib/python3.12/dist-packages (from statsmodels->keypoint-moseq) (1.0.1)\n",
            "Requirement already satisfied: numexpr>=2.6.2 in /usr/local/lib/python3.12/dist-packages (from tables->keypoint-moseq) (2.11.0)\n",
            "Requirement already satisfied: py-cpuinfo in /usr/local/lib/python3.12/dist-packages (from tables->keypoint-moseq) (9.0.0)\n",
            "Requirement already satisfied: blosc2>=2.3.0 in /usr/local/lib/python3.12/dist-packages (from tables->keypoint-moseq) (3.7.2)\n",
            "Requirement already satisfied: opencv-python-headless in /usr/local/lib/python3.12/dist-packages (from vidio->keypoint-moseq) (4.11.0.86)\n",
            "Requirement already satisfied: ndindex in /usr/local/lib/python3.12/dist-packages (from blosc2>=2.3.0->tables->keypoint-moseq) (1.10.0)\n",
            "Requirement already satisfied: msgpack in /usr/local/lib/python3.12/dist-packages (from blosc2>=2.3.0->tables->keypoint-moseq) (1.1.1)\n",
            "Requirement already satisfied: jax>=0.3.15 in /usr/local/lib/python3.12/dist-packages (from dynamax>=0.1.2->jax-moseq->keypoint-moseq) (0.5.3)\n",
            "Requirement already satisfied: jaxlib in /usr/local/lib/python3.12/dist-packages (from dynamax>=0.1.2->jax-moseq->keypoint-moseq) (0.5.3)\n",
            "Requirement already satisfied: fastprogress in /usr/local/lib/python3.12/dist-packages (from dynamax>=0.1.2->jax-moseq->keypoint-moseq) (1.0.3)\n",
            "Requirement already satisfied: optax in /usr/local/lib/python3.12/dist-packages (from dynamax>=0.1.2->jax-moseq->keypoint-moseq) (0.2.5)\n",
            "Requirement already satisfied: tensorflow_probability in /usr/local/lib/python3.12/dist-packages (from dynamax>=0.1.2->jax-moseq->keypoint-moseq) (0.25.0)\n",
            "Requirement already satisfied: scikit-learn in /usr/local/lib/python3.12/dist-packages (from dynamax>=0.1.2->jax-moseq->keypoint-moseq) (1.6.1)\n",
            "Requirement already satisfied: jaxtyping in /usr/local/lib/python3.12/dist-packages (from dynamax>=0.1.2->jax-moseq->keypoint-moseq) (0.3.2)\n",
            "Requirement already satisfied: jsonschema>=3.2.0 in /usr/local/lib/python3.12/dist-packages (from hdmf>=3.13.0->ndx-pose->keypoint-moseq) (4.25.1)\n",
            "Requirement already satisfied: ruamel-yaml>=0.16 in /usr/local/lib/python3.12/dist-packages (from hdmf>=3.13.0->ndx-pose->keypoint-moseq) (0.18.15)\n",
            "Requirement already satisfied: jedi>=0.16 in /usr/local/lib/python3.12/dist-packages (from ipython>=5.4.0->holoviews[recommended]->keypoint-moseq) (0.19.2)\n",
            "Requirement already satisfied: decorator in /usr/local/lib/python3.12/dist-packages (from ipython>=5.4.0->holoviews[recommended]->keypoint-moseq) (4.4.2)\n",
            "Requirement already satisfied: pickleshare in /usr/local/lib/python3.12/dist-packages (from ipython>=5.4.0->holoviews[recommended]->keypoint-moseq) (0.7.5)\n",
            "Requirement already satisfied: prompt-toolkit!=3.0.0,!=3.0.1,<3.1.0,>=2.0.0 in /usr/local/lib/python3.12/dist-packages (from ipython>=5.4.0->holoviews[recommended]->keypoint-moseq) (3.0.52)\n",
            "Requirement already satisfied: pygments in /usr/local/lib/python3.12/dist-packages (from ipython>=5.4.0->holoviews[recommended]->keypoint-moseq) (2.19.2)\n",
            "Requirement already satisfied: backcall in /usr/local/lib/python3.12/dist-packages (from ipython>=5.4.0->holoviews[recommended]->keypoint-moseq) (0.2.0)\n",
            "Requirement already satisfied: pexpect>4.3 in /usr/local/lib/python3.12/dist-packages (from ipython>=5.4.0->holoviews[recommended]->keypoint-moseq) (4.9.0)\n",
            "Requirement already satisfied: MarkupSafe>=2.0 in /usr/local/lib/python3.12/dist-packages (from Jinja2>=2.9->bokeh->keypoint-moseq) (3.0.2)\n",
            "Requirement already satisfied: entrypoints in /usr/local/lib/python3.12/dist-packages (from jupyter-client>=6.1.12->ipykernel->keypoint-moseq) (0.4)\n",
            "Requirement already satisfied: jupyter-core>=4.9.2 in /usr/local/lib/python3.12/dist-packages (from jupyter-client>=6.1.12->ipykernel->keypoint-moseq) (5.8.1)\n",
            "Requirement already satisfied: llvmlite<0.44,>=0.43.0dev0 in /usr/local/lib/python3.12/dist-packages (from numba>=0.56.4->jax-moseq->keypoint-moseq) (0.43.0)\n",
            "Requirement already satisfied: six>=1.5 in /usr/local/lib/python3.12/dist-packages (from python-dateutil>=2.7->matplotlib==3.8.4->keypoint-moseq) (1.17.0)\n",
            "Requirement already satisfied: argon2-cffi in /usr/local/lib/python3.12/dist-packages (from notebook->holoviews[recommended]->keypoint-moseq) (25.1.0)\n",
            "Requirement already satisfied: nbformat in /usr/local/lib/python3.12/dist-packages (from notebook->holoviews[recommended]->keypoint-moseq) (5.10.4)\n",
            "Requirement already satisfied: nbconvert>=5 in /usr/local/lib/python3.12/dist-packages (from notebook->holoviews[recommended]->keypoint-moseq) (7.16.6)\n",
            "Requirement already satisfied: Send2Trash>=1.8.0 in /usr/local/lib/python3.12/dist-packages (from notebook->holoviews[recommended]->keypoint-moseq) (1.8.3)\n",
            "Requirement already satisfied: terminado>=0.8.3 in /usr/local/lib/python3.12/dist-packages (from notebook->holoviews[recommended]->keypoint-moseq) (0.18.1)\n",
            "Requirement already satisfied: prometheus-client in /usr/local/lib/python3.12/dist-packages (from notebook->holoviews[recommended]->keypoint-moseq) (0.22.1)\n",
            "Requirement already satisfied: nbclassic>=0.4.7 in /usr/local/lib/python3.12/dist-packages (from notebook->holoviews[recommended]->keypoint-moseq) (1.3.2)\n",
            "Requirement already satisfied: webencodings in /usr/local/lib/python3.12/dist-packages (from bleach->panel==0.14.4->keypoint-moseq) (0.5.1)\n",
            "Requirement already satisfied: charset_normalizer<4,>=2 in /usr/local/lib/python3.12/dist-packages (from requests->panel==0.14.4->keypoint-moseq) (3.4.3)\n",
            "Requirement already satisfied: idna<4,>=2.5 in /usr/local/lib/python3.12/dist-packages (from requests->panel==0.14.4->keypoint-moseq) (3.10)\n",
            "Requirement already satisfied: urllib3<3,>=1.21.1 in /usr/local/lib/python3.12/dist-packages (from requests->panel==0.14.4->keypoint-moseq) (2.5.0)\n",
            "Requirement already satisfied: certifi>=2017.4.17 in /usr/local/lib/python3.12/dist-packages (from requests->panel==0.14.4->keypoint-moseq) (2025.8.3)\n",
            "Requirement already satisfied: ml_dtypes>=0.4.0 in /usr/local/lib/python3.12/dist-packages (from jax>=0.3.15->dynamax>=0.1.2->jax-moseq->keypoint-moseq) (0.5.3)\n",
            "Requirement already satisfied: opt_einsum in /usr/local/lib/python3.12/dist-packages (from jax>=0.3.15->dynamax>=0.1.2->jax-moseq->keypoint-moseq) (3.4.0)\n",
            "Requirement already satisfied: parso<0.9.0,>=0.8.4 in /usr/local/lib/python3.12/dist-packages (from jedi>=0.16->ipython>=5.4.0->holoviews[recommended]->keypoint-moseq) (0.8.5)\n",
            "Requirement already satisfied: jsonschema-specifications>=2023.03.6 in /usr/local/lib/python3.12/dist-packages (from jsonschema>=3.2.0->hdmf>=3.13.0->ndx-pose->keypoint-moseq) (2025.9.1)\n",
            "Requirement already satisfied: referencing>=0.28.4 in /usr/local/lib/python3.12/dist-packages (from jsonschema>=3.2.0->hdmf>=3.13.0->ndx-pose->keypoint-moseq) (0.36.2)\n",
            "Requirement already satisfied: rpds-py>=0.7.1 in /usr/local/lib/python3.12/dist-packages (from jsonschema>=3.2.0->hdmf>=3.13.0->ndx-pose->keypoint-moseq) (0.27.1)\n",
            "Requirement already satisfied: notebook-shim>=0.2.3 in /usr/local/lib/python3.12/dist-packages (from nbclassic>=0.4.7->notebook->holoviews[recommended]->keypoint-moseq) (0.2.4)\n",
            "Requirement already satisfied: beautifulsoup4 in /usr/local/lib/python3.12/dist-packages (from nbconvert>=5->notebook->holoviews[recommended]->keypoint-moseq) (4.13.5)\n",
            "Requirement already satisfied: defusedxml in /usr/local/lib/python3.12/dist-packages (from nbconvert>=5->notebook->holoviews[recommended]->keypoint-moseq) (0.7.1)\n",
            "Requirement already satisfied: jupyterlab-pygments in /usr/local/lib/python3.12/dist-packages (from nbconvert>=5->notebook->holoviews[recommended]->keypoint-moseq) (0.3.0)\n",
            "Requirement already satisfied: mistune<4,>=2.0.3 in /usr/local/lib/python3.12/dist-packages (from nbconvert>=5->notebook->holoviews[recommended]->keypoint-moseq) (3.1.4)\n",
            "Requirement already satisfied: nbclient>=0.5.0 in /usr/local/lib/python3.12/dist-packages (from nbconvert>=5->notebook->holoviews[recommended]->keypoint-moseq) (0.10.2)\n",
            "Requirement already satisfied: pandocfilters>=1.4.1 in /usr/local/lib/python3.12/dist-packages (from nbconvert>=5->notebook->holoviews[recommended]->keypoint-moseq) (1.5.1)\n",
            "Requirement already satisfied: fastjsonschema>=2.15 in /usr/local/lib/python3.12/dist-packages (from nbformat->notebook->holoviews[recommended]->keypoint-moseq) (2.21.2)\n",
            "Requirement already satisfied: ptyprocess>=0.5 in /usr/local/lib/python3.12/dist-packages (from pexpect>4.3->ipython>=5.4.0->holoviews[recommended]->keypoint-moseq) (0.7.0)\n",
            "Requirement already satisfied: wcwidth in /usr/local/lib/python3.12/dist-packages (from prompt-toolkit!=3.0.0,!=3.0.1,<3.1.0,>=2.0.0->ipython>=5.4.0->holoviews[recommended]->keypoint-moseq) (0.2.13)\n",
            "Requirement already satisfied: ruamel.yaml.clib>=0.2.7 in /usr/local/lib/python3.12/dist-packages (from ruamel-yaml>=0.16->hdmf>=3.13.0->ndx-pose->keypoint-moseq) (0.2.12)\n",
            "Requirement already satisfied: argon2-cffi-bindings in /usr/local/lib/python3.12/dist-packages (from argon2-cffi->notebook->holoviews[recommended]->keypoint-moseq) (25.1.0)\n",
            "Requirement already satisfied: wadler-lindig>=0.1.3 in /usr/local/lib/python3.12/dist-packages (from jaxtyping->dynamax>=0.1.2->jax-moseq->keypoint-moseq) (0.1.7)\n",
            "Requirement already satisfied: absl-py>=0.7.1 in /usr/local/lib/python3.12/dist-packages (from optax->dynamax>=0.1.2->jax-moseq->keypoint-moseq) (1.4.0)\n",
            "Requirement already satisfied: chex>=0.1.87 in /usr/local/lib/python3.12/dist-packages (from optax->dynamax>=0.1.2->jax-moseq->keypoint-moseq) (0.1.90)\n",
            "Requirement already satisfied: joblib>=1.2.0 in /usr/local/lib/python3.12/dist-packages (from scikit-learn->dynamax>=0.1.2->jax-moseq->keypoint-moseq) (1.5.2)\n",
            "Requirement already satisfied: threadpoolctl>=3.1.0 in /usr/local/lib/python3.12/dist-packages (from scikit-learn->dynamax>=0.1.2->jax-moseq->keypoint-moseq) (3.6.0)\n",
            "Requirement already satisfied: cloudpickle>=1.3 in /usr/local/lib/python3.12/dist-packages (from tensorflow_probability->dynamax>=0.1.2->jax-moseq->keypoint-moseq) (3.1.1)\n",
            "Requirement already satisfied: gast>=0.3.2 in /usr/local/lib/python3.12/dist-packages (from tensorflow_probability->dynamax>=0.1.2->jax-moseq->keypoint-moseq) (0.6.0)\n",
            "Requirement already satisfied: dm-tree in /usr/local/lib/python3.12/dist-packages (from tensorflow_probability->dynamax>=0.1.2->jax-moseq->keypoint-moseq) (0.1.9)\n",
            "Requirement already satisfied: tinycss2<1.5,>=1.1.0 in /usr/local/lib/python3.12/dist-packages (from bleach[css]!=5.0.0->nbconvert>=5->notebook->holoviews[recommended]->keypoint-moseq) (1.4.0)\n",
            "Requirement already satisfied: jupyter-server<3,>=1.8 in /usr/local/lib/python3.12/dist-packages (from notebook-shim>=0.2.3->nbclassic>=0.4.7->notebook->holoviews[recommended]->keypoint-moseq) (2.14.0)\n",
            "Requirement already satisfied: cffi>=1.0.1 in /usr/local/lib/python3.12/dist-packages (from argon2-cffi-bindings->argon2-cffi->notebook->holoviews[recommended]->keypoint-moseq) (2.0.0)\n",
            "Requirement already satisfied: soupsieve>1.2 in /usr/local/lib/python3.12/dist-packages (from beautifulsoup4->nbconvert>=5->notebook->holoviews[recommended]->keypoint-moseq) (2.8)\n",
            "Requirement already satisfied: wrapt>=1.11.2 in /usr/local/lib/python3.12/dist-packages (from dm-tree->tensorflow_probability->dynamax>=0.1.2->jax-moseq->keypoint-moseq) (1.17.3)\n",
            "Requirement already satisfied: pycparser in /usr/local/lib/python3.12/dist-packages (from cffi>=1.0.1->argon2-cffi-bindings->argon2-cffi->notebook->holoviews[recommended]->keypoint-moseq) (2.23)\n",
            "Requirement already satisfied: anyio>=3.1.0 in /usr/local/lib/python3.12/dist-packages (from jupyter-server<3,>=1.8->notebook-shim>=0.2.3->nbclassic>=0.4.7->notebook->holoviews[recommended]->keypoint-moseq) (4.10.0)\n",
            "Requirement already satisfied: jupyter-events>=0.9.0 in /usr/local/lib/python3.12/dist-packages (from jupyter-server<3,>=1.8->notebook-shim>=0.2.3->nbclassic>=0.4.7->notebook->holoviews[recommended]->keypoint-moseq) (0.12.0)\n",
            "Requirement already satisfied: jupyter-server-terminals>=0.4.4 in /usr/local/lib/python3.12/dist-packages (from jupyter-server<3,>=1.8->notebook-shim>=0.2.3->nbclassic>=0.4.7->notebook->holoviews[recommended]->keypoint-moseq) (0.5.3)\n",
            "Requirement already satisfied: overrides>=5.0 in /usr/local/lib/python3.12/dist-packages (from jupyter-server<3,>=1.8->notebook-shim>=0.2.3->nbclassic>=0.4.7->notebook->holoviews[recommended]->keypoint-moseq) (7.7.0)\n",
            "Requirement already satisfied: websocket-client>=1.7 in /usr/local/lib/python3.12/dist-packages (from jupyter-server<3,>=1.8->notebook-shim>=0.2.3->nbclassic>=0.4.7->notebook->holoviews[recommended]->keypoint-moseq) (1.8.0)\n",
            "Requirement already satisfied: sniffio>=1.1 in /usr/local/lib/python3.12/dist-packages (from anyio>=3.1.0->jupyter-server<3,>=1.8->notebook-shim>=0.2.3->nbclassic>=0.4.7->notebook->holoviews[recommended]->keypoint-moseq) (1.3.1)\n",
            "Requirement already satisfied: python-json-logger>=2.0.4 in /usr/local/lib/python3.12/dist-packages (from jupyter-events>=0.9.0->jupyter-server<3,>=1.8->notebook-shim>=0.2.3->nbclassic>=0.4.7->notebook->holoviews[recommended]->keypoint-moseq) (3.3.0)\n",
            "Requirement already satisfied: rfc3339-validator in /usr/local/lib/python3.12/dist-packages (from jupyter-events>=0.9.0->jupyter-server<3,>=1.8->notebook-shim>=0.2.3->nbclassic>=0.4.7->notebook->holoviews[recommended]->keypoint-moseq) (0.1.4)\n",
            "Requirement already satisfied: rfc3986-validator>=0.1.1 in /usr/local/lib/python3.12/dist-packages (from jupyter-events>=0.9.0->jupyter-server<3,>=1.8->notebook-shim>=0.2.3->nbclassic>=0.4.7->notebook->holoviews[recommended]->keypoint-moseq) (0.1.1)\n",
            "Requirement already satisfied: fqdn in /usr/local/lib/python3.12/dist-packages (from jsonschema[format-nongpl]>=4.18.0->jupyter-events>=0.9.0->jupyter-server<3,>=1.8->notebook-shim>=0.2.3->nbclassic>=0.4.7->notebook->holoviews[recommended]->keypoint-moseq) (1.5.1)\n",
            "Requirement already satisfied: isoduration in /usr/local/lib/python3.12/dist-packages (from jsonschema[format-nongpl]>=4.18.0->jupyter-events>=0.9.0->jupyter-server<3,>=1.8->notebook-shim>=0.2.3->nbclassic>=0.4.7->notebook->holoviews[recommended]->keypoint-moseq) (20.11.0)\n",
            "Requirement already satisfied: jsonpointer>1.13 in /usr/local/lib/python3.12/dist-packages (from jsonschema[format-nongpl]>=4.18.0->jupyter-events>=0.9.0->jupyter-server<3,>=1.8->notebook-shim>=0.2.3->nbclassic>=0.4.7->notebook->holoviews[recommended]->keypoint-moseq) (3.0.0)\n",
            "Requirement already satisfied: rfc3987-syntax>=1.1.0 in /usr/local/lib/python3.12/dist-packages (from jsonschema[format-nongpl]>=4.18.0->jupyter-events>=0.9.0->jupyter-server<3,>=1.8->notebook-shim>=0.2.3->nbclassic>=0.4.7->notebook->holoviews[recommended]->keypoint-moseq) (1.1.0)\n",
            "Requirement already satisfied: uri-template in /usr/local/lib/python3.12/dist-packages (from jsonschema[format-nongpl]>=4.18.0->jupyter-events>=0.9.0->jupyter-server<3,>=1.8->notebook-shim>=0.2.3->nbclassic>=0.4.7->notebook->holoviews[recommended]->keypoint-moseq) (1.3.0)\n",
            "Requirement already satisfied: webcolors>=24.6.0 in /usr/local/lib/python3.12/dist-packages (from jsonschema[format-nongpl]>=4.18.0->jupyter-events>=0.9.0->jupyter-server<3,>=1.8->notebook-shim>=0.2.3->nbclassic>=0.4.7->notebook->holoviews[recommended]->keypoint-moseq) (24.11.1)\n",
            "Requirement already satisfied: lark>=1.2.2 in /usr/local/lib/python3.12/dist-packages (from rfc3987-syntax>=1.1.0->jsonschema[format-nongpl]>=4.18.0->jupyter-events>=0.9.0->jupyter-server<3,>=1.8->notebook-shim>=0.2.3->nbclassic>=0.4.7->notebook->holoviews[recommended]->keypoint-moseq) (1.2.2)\n",
            "Requirement already satisfied: arrow>=0.15.0 in /usr/local/lib/python3.12/dist-packages (from isoduration->jsonschema[format-nongpl]>=4.18.0->jupyter-events>=0.9.0->jupyter-server<3,>=1.8->notebook-shim>=0.2.3->nbclassic>=0.4.7->notebook->holoviews[recommended]->keypoint-moseq) (1.3.0)\n",
            "Requirement already satisfied: types-python-dateutil>=2.8.10 in /usr/local/lib/python3.12/dist-packages (from arrow>=0.15.0->isoduration->jsonschema[format-nongpl]>=4.18.0->jupyter-events>=0.9.0->jupyter-server<3,>=1.8->notebook-shim>=0.2.3->nbclassic>=0.4.7->notebook->holoviews[recommended]->keypoint-moseq) (2.9.0.20250822)\n",
            "Drive already mounted at /content/drive; to attempt to forcibly remount, call drive.mount(\"/content/drive\", force_remount=True).\n"
          ]
        }
      ],
      "source": [
        "! pip install -U keypoint-moseq\n",
        "\n",
        "import os\n",
        "from google.colab import drive\n",
        "\n",
        "drive.mount(\"/content/drive\")"
      ]
    },
    {
      "cell_type": "markdown",
      "id": "df94500c",
      "metadata": {
        "id": "df94500c"
      },
      "source": [
        "### Option 1: Use our example dataset"
      ]
    },
    {
      "cell_type": "code",
      "execution_count": null,
      "id": "e944d0e1",
      "metadata": {
        "id": "e944d0e1"
      },
      "outputs": [],
      "source": [
        "import gdown\n",
        "\n",
        "url = \"https://drive.google.com/uc?id=1JGyS9MbdS3MtrlYnh4xdEQwe2bYoCuSZ\"\n",
        "output = \"dlc_example_project.zip\"\n",
        "gdown.download(url, output, quiet=False)\n",
        "! unzip dlc_example_project.zip\n",
        "\n",
        "data_dir = \"dlc_example_project\""
      ]
    },
    {
      "cell_type": "markdown",
      "id": "abad448e",
      "metadata": {
        "id": "abad448e"
      },
      "source": [
        "### Option 2: Use your own data\n",
        "Upload your data to google drive and then change the following path as needed"
      ]
    },
    {
      "cell_type": "code",
      "execution_count": null,
      "id": "f7df6bb2",
      "metadata": {
        "id": "f7df6bb2"
      },
      "outputs": [],
      "source": [
        " data_dir = \"/content/drive/MyDrive/MY_DATA_DIRECTORY\""
      ]
    },
    {
      "cell_type": "markdown",
      "id": "f8a52043",
      "metadata": {
        "id": "f8a52043"
      },
      "source": [
        "# Project setup\n",
        "Create a new project directory with a keypoint-MoSeq `config.yml` file."
      ]
    },
    {
      "cell_type": "code",
      "execution_count": null,
      "id": "intermediate-kenya",
      "metadata": {
        "id": "intermediate-kenya"
      },
      "outputs": [],
      "source": [
        "import keypoint_moseq as kpms\n",
        "import numpy as np\n",
        "\n",
        "project_dir = \"/content/drive/MyDrive/demo_project/\"\n",
        "config = lambda: kpms.load_config(project_dir)"
      ]
    },
    {
      "cell_type": "markdown",
      "id": "012d8287",
      "metadata": {
        "id": "012d8287"
      },
      "source": [
        "### Option 1: Setup from DeepLabCut"
      ]
    },
    {
      "cell_type": "code",
      "execution_count": null,
      "id": "b4aa2fcd",
      "metadata": {
        "mystnb": {
          "code_prompt_hide": "Setup from DeepLabCut",
          "code_prompt_show": "Setup from DeepLabCut"
        },
        "tags": [
          "hide-cell"
        ],
        "id": "b4aa2fcd"
      },
      "outputs": [],
      "source": [
        "dlc_config = os.path.join(data_dir, \"config.yaml\")\n",
        "kpms.setup_project(project_dir, deeplabcut_config=dlc_config)"
      ]
    },
    {
      "cell_type": "markdown",
      "id": "d8967d49",
      "metadata": {
        "id": "d8967d49"
      },
      "source": [
        "### Option 2: Setup from SLEAP"
      ]
    },
    {
      "cell_type": "code",
      "execution_count": null,
      "id": "0c13b902",
      "metadata": {
        "mystnb": {
          "code_prompt_hide": "Setup from SLEAP",
          "code_prompt_show": "Setup from SLEAP"
        },
        "tags": [
          "hide-cell"
        ],
        "id": "0c13b902"
      },
      "outputs": [],
      "source": [
        "# choose a .h5 file for one of your recordings\n",
        "# sleap_file = os.path.join(data_dir, 'SLEAP_FILE_NAME')\n",
        "# kpms.setup_project(project_dir, sleap_file=sleap_file)"
      ]
    },
    {
      "cell_type": "markdown",
      "id": "b9e62b8e",
      "metadata": {
        "id": "b9e62b8e"
      },
      "source": [
        "### Options 3: Manual setup"
      ]
    },
    {
      "cell_type": "code",
      "execution_count": null,
      "id": "0d804ac5",
      "metadata": {
        "mystnb": {
          "code_prompt_hide": "Custom setup",
          "code_prompt_show": "Custom setup"
        },
        "tags": [
          "hide-cell"
        ],
        "id": "0d804ac5"
      },
      "outputs": [],
      "source": [
        "# bodyparts=[\n",
        "#     'tail', 'spine4', 'spine3', 'spine2', 'spine1',\n",
        "#     'head', 'nose', 'right ear', 'left ear']\n",
        "\n",
        "# skeleton=[\n",
        "#     ['tail', 'spine4'],\n",
        "#     ['spine4', 'spine3'],\n",
        "#     ['spine3', 'spine2'],\n",
        "#     ['spine2', 'spine1'],\n",
        "#     ['spine1', 'head'],\n",
        "#     ['nose', 'head'],\n",
        "#     ['left ear', 'head'],\n",
        "#     ['right ear', 'head']]\n",
        "\n",
        "# video_dir = os.path.join(data_dir, 'videos')\n",
        "\n",
        "# kpms.setup_project(\n",
        "#     project_dir,\n",
        "#     video_dir=video_dir,\n",
        "#     bodyparts=bodyparts,\n",
        "#     skeleton=skeleton)"
      ]
    },
    {
      "cell_type": "markdown",
      "id": "gothic-viking",
      "metadata": {
        "id": "gothic-viking"
      },
      "source": [
        "## Edit the config file\n",
        "\n",
        "The config can be edited in a text editor or using the function `kpms.update_config`, as shown below. In general, the following parameters should be specified for each project:\n",
        "\n",
        "- `bodyparts` (name of each keypoint; automatically imported from SLEAP/DeepLabCut)\n",
        "- `use_bodyparts` (subset of bodyparts to use for modeling, set to all bodyparts by default; for mice we recommend excluding the tail)\n",
        "- `anterior_bodyparts` and `posterior_bodyparts` (used for rotational alignment)\n",
        "- `video_dir` (directory with videos of each experiment)\n",
        "- `fps` (frames per second of the input videos)\n",
        "\n",
        "Edit the config as follows for the [example DeepLabCut dataset](https://drive.google.com/drive/folders/1UNHQ_XCQEKLPPSjGspRopWBj6-YNDV6G?usp=share_link):"
      ]
    },
    {
      "cell_type": "code",
      "execution_count": null,
      "id": "theoretical-yahoo",
      "metadata": {
        "id": "theoretical-yahoo"
      },
      "outputs": [],
      "source": [
        "kpms.update_config(\n",
        "    project_dir,\n",
        "    video_dir=os.path.join(data_dir, \"videos\"),\n",
        "    anterior_bodyparts=[\"nose\"],\n",
        "    posterior_bodyparts=[\"spine4\"],\n",
        "    use_bodyparts=[\"spine4\", \"spine3\", \"spine2\", \"spine1\", \"head\", \"nose\", \"right ear\", \"left ear\"],\n",
        "    fps=30,\n",
        ")"
      ]
    },
    {
      "cell_type": "markdown",
      "id": "phantom-dating",
      "metadata": {
        "id": "phantom-dating"
      },
      "source": [
        "## Load data\n",
        "\n",
        "The code below shows how to load keypoint detections from DeepLabCut. To load other formats, replace `'deeplabcut'` in the example with one of `'sleap', 'anipose', 'sleap-anipose', 'nwb'`. For other formats, see the [FAQ](https://keypoint-moseq.readthedocs.io/en/latest/FAQs.html#loading-keypoint-tracking-data)."
      ]
    },
    {
      "cell_type": "code",
      "execution_count": null,
      "id": "expressed-christian",
      "metadata": {
        "id": "expressed-christian"
      },
      "outputs": [],
      "source": [
        "# load data (e.g. from DeepLabCut)\n",
        "keypoint_data_path = os.path.join(\n",
        "    data_dir, \"videos\"\n",
        ")  # can be a file, a directory, or a list of files\n",
        "coordinates, confidences, bodyparts = kpms.load_keypoints(keypoint_data_path, \"deeplabcut\")\n",
        "\n",
        "# format data for modeling\n",
        "data, metadata = kpms.format_data(coordinates, confidences, **config())"
      ]
    },
    {
      "cell_type": "markdown",
      "id": "36f03c90",
      "metadata": {
        "id": "36f03c90"
      },
      "source": [
        "## Remove outlier keypoints\n",
        "Removing large outliers can improve the robustness of model fitting. The following cell classifies keypoints as outliers based on their distance to the animal's medoid. The outlier keypoints are then interpolated and their confidences are set to 0.\n",
        "- Use `outlier_scale_factor` to adjust the stringency of outlier detection (higher values -> more stringent)\n",
        "- Plots showing distance to medoid before and after outlier interpolation are saved to `{project_dir}/QA/plots/`\n",
        "- Plotting can take a few minutes. If you have a lot of data, you can comment out the plot_medoid_distance_outliers line."
      ]
    },
    {
      "cell_type": "code",
      "execution_count": null,
      "id": "922c5991",
      "metadata": {
        "id": "922c5991"
      },
      "outputs": [],
      "source": [
        "# outlier_scale_factor modifies the how stringent the outlier detection algorithm is. Run this cell once and examine the output\n",
        "# plots in {project_dir}/QA/plots/keypoint_distance_outliers. If not enough outliers are being interpolated, set this number\n",
        "# lower. If too many correct points are being interpolated, set this number higher.\n",
        "kpms.update_config(project_dir, outlier_scale_factor=6.0)\n",
        "\n",
        "for recording_name in coordinates:\n",
        "    raw_coords = coordinates[recording_name].copy()\n",
        "    outliers = kpms.find_medoid_distance_outliers(raw_coords, **config())\n",
        "    coordinates[recording_name] = kpms.interpolate_keypoints(raw_coords, outliers[\"mask\"])\n",
        "    confidences[recording_name] = np.where(outliers[\"mask\"], 0, confidences[recording_name])\n",
        "    kpms.plot_medoid_distance_outliers(\n",
        "        project_dir,\n",
        "        recording_name,\n",
        "        raw_coords,\n",
        "        coordinates[recording_name],\n",
        "        outliers[\"mask\"],\n",
        "        outliers[\"thresholds\"],\n",
        "        **config()\n",
        "    )"
      ]
    },
    {
      "cell_type": "markdown",
      "id": "processed-struggle",
      "metadata": {
        "id": "processed-struggle"
      },
      "source": [
        "## Calibration\n",
        "\n",
        "The purpose of calibration is to learn the relationship between keypoint errors and confidence scores. The results are stored using the `slope` and `intercept` parameters in the config.\n",
        "\n",
        "- Run the cell below. A widget should appear with a video frame and the name of a bodypart. A yellow marker denotes the detected location of the bodypart.\n",
        "    \n",
        "- Annotate each frame with the correct location of the labeled bodypart\n",
        "    - Click on the image at the correct location - an \"X\" should appear.\n",
        "    - Use the prev/next buttons to annotate additional frames.\n",
        "    - Click and drag the bottom-right shaded corner of the widget to adjust image size.\n",
        "    - Use the toolbar to the left of the figure to pan and zoom.\n",
        "\n",
        "- We suggest annotating at least 50 frames.\n",
        "\n",
        "- Annotations will be automatically saved once you've completed at least 20 annotations.\n",
        "Each new annotation after that will trigger an auto-save of all your work.\n",
        "The message at the top of the widget will indicate when your annotations are being saved."
      ]
    },
    {
      "cell_type": "code",
      "execution_count": null,
      "id": "f1bd3baa",
      "metadata": {
        "id": "f1bd3baa"
      },
      "outputs": [],
      "source": [
        "%matplotlib widget\n",
        "kpms.noise_calibration(project_dir, coordinates, confidences, **config())"
      ]
    },
    {
      "cell_type": "markdown",
      "id": "organizational-theorem",
      "metadata": {
        "id": "organizational-theorem"
      },
      "source": [
        "## Fit PCA\n",
        "\n",
        "Run the cell below to fit a PCA model to aligned and centered keypoint coordinates.\n",
        "\n",
        "- The model is saved to ``{project_dir}/pca.p`` and can be reloaded using ``kpms.load_pca``.\n",
        "- Two plots are generated: a cumulative [scree plot](https://en.wikipedia.org/wiki/Scree_plot) and a depiction of each PC, where translucent nodes/edges represent the mean pose and opaque nodes/edges represent a perturbation in the direction of the PC.\n",
        "- After fitting, edit `latent_dimension` in the config. This determines the dimension of the pose trajectory used to fit keypoint-MoSeq. A good heuristic is the number of dimensions needed to explain 90% of variance, or 10 dimensions - whichever is lower.  "
      ]
    },
    {
      "cell_type": "code",
      "execution_count": null,
      "id": "respiratory-canvas",
      "metadata": {
        "id": "respiratory-canvas"
      },
      "outputs": [],
      "source": [
        "pca = kpms.fit_pca(**data, **config())\n",
        "kpms.save_pca(pca, project_dir)\n",
        "\n",
        "kpms.print_dims_to_explain_variance(pca, 0.9)\n",
        "kpms.plot_scree(pca, project_dir=project_dir)\n",
        "kpms.plot_pcs(pca, project_dir=project_dir, **config())\n",
        "\n",
        "# use the following to load an already fit model\n",
        "# pca = kpms.load_pca(project_dir)"
      ]
    },
    {
      "cell_type": "code",
      "execution_count": null,
      "id": "a1a3a9b6",
      "metadata": {
        "id": "a1a3a9b6"
      },
      "outputs": [],
      "source": [
        "kpms.update_config(project_dir, latent_dim=4)"
      ]
    },
    {
      "cell_type": "markdown",
      "id": "accomplished-pantyhose",
      "metadata": {
        "id": "accomplished-pantyhose"
      },
      "source": [
        "# Model fitting\n",
        "\n",
        "Fitting a keypoint-MoSeq model involves:\n",
        "1. **Estimating hyperparameters:** Set model hyperparameters that can be automatically estimated from the input data.\n",
        "2. **Initialization:** Auto-regressive (AR) parameters and syllable sequences are randomly initialized using pose trajectories from PCA.\n",
        "3. **Fitting an AR-HMM:** The AR parameters, transition probabilities and syllable sequences are iteratively updated through Gibbs sampling.\n",
        "4. **Fitting the full model:** All parameters, including both the AR-HMM as well as centroid, heading, noise-estimates and continuous latent states (i.e. pose trajectories) are iteratively updated through Gibbs sampling. This step is especially useful for noisy data.\n",
        "5. **Extracting model results:** The learned states of the model are parsed and saved to disk for vizualization and downstream analysis.\n",
        "6. **[Optional] Applying the trained model:** The learned model parameters can be used to infer a syllable sequences for additional data.\n",
        "\n",
        "## Setting kappa\n",
        "\n",
        "Most users will need to adjust the **kappa** hyperparameter to achieve the desired distribution of syllable durations. For this tutorial we chose kappa values that yielded a median syllable duration of 400ms (12 frames). Most users will need to tune kappa to their particular dataset. Higher values of kappa lead to longer syllables. **You will need to pick two kappas: one for AR-HMM fitting and one for the full model.**\n",
        "- We recommend iteratively updating kappa and refitting the model until the target syllable time-scale is attained.  \n",
        "- Model fitting can be stopped at any time by interrupting the kernel, and then restarted with a new kappa value.\n",
        "- The full model will generally require a lower value of kappa to yield the same target syllable durations.\n",
        "- To adjust the value of kappa in the model, use `kpms.update_hypparams` as shown below. Note that this command only changes kappa in the model dictionary, not the kappa value in the config file. The value in the config is only used during model initialization."
      ]
    },
    {
      "cell_type": "markdown",
      "id": "debb212c",
      "metadata": {
        "id": "debb212c"
      },
      "source": [
        "## Estimating Hyperparameters\n",
        "\n",
        "We provide heuristics for adjusting a subset of model hyperparameters:\n",
        "\n",
        "- **sigmasq_loc:** The expected distance that the centroid will move each frame. If this is set too high, the centroid trajectory will be overly noisy. If it's set too low, the centroid may deviate from the animal's true location during fast locomotion. `estimate_sigmasq_loc` estimates this hyperparameter based on the empirical frame-to-frame movement of the filtered centroid trajectory."
      ]
    },
    {
      "cell_type": "code",
      "execution_count": null,
      "id": "0524e9e4",
      "metadata": {
        "id": "0524e9e4"
      },
      "outputs": [],
      "source": [
        "kpms.update_config(\n",
        "    project_dir,\n",
        "    sigmasq_loc=kpms.estimate_sigmasq_loc(data[\"Y\"], data[\"mask\"], filter_size=config()[\"fps\"])\n",
        ")"
      ]
    },
    {
      "cell_type": "markdown",
      "id": "utility-penetration",
      "metadata": {
        "id": "utility-penetration"
      },
      "source": [
        "## Initialization"
      ]
    },
    {
      "cell_type": "code",
      "execution_count": null,
      "id": "found-administrator",
      "metadata": {
        "id": "found-administrator"
      },
      "outputs": [],
      "source": [
        "# initialize the model\n",
        "model = kpms.init_model(data, pca=pca, **config())\n",
        "\n",
        "# optionally modify kappa\n",
        "# model = kpms.update_hypparams(model, kappa=NUMBER)"
      ]
    },
    {
      "cell_type": "markdown",
      "id": "partial-remove",
      "metadata": {
        "id": "partial-remove"
      },
      "source": [
        "## Fitting an AR-HMM\n",
        "\n",
        "In addition to fitting an AR-HMM, the function below:\n",
        "- generates a name for the model and a corresponding directory in `project_dir`\n",
        "- saves a checkpoint every 25 iterations from which fitting can be restarted\n",
        "- plots the progress of fitting every 25 iterations, including\n",
        "    - the distributions of syllable frequencies and durations for the most recent iteration\n",
        "    - the change in median syllable duration across fitting iterations\n",
        "    - a sample of the syllable sequence across iterations in a random window"
      ]
    },
    {
      "cell_type": "code",
      "execution_count": null,
      "id": "888e6ff7",
      "metadata": {
        "scrolled": false,
        "id": "888e6ff7"
      },
      "outputs": [],
      "source": [
        "num_ar_iters = 50\n",
        "\n",
        "model, model_name = kpms.fit_model(\n",
        "    model, data, metadata, project_dir, ar_only=True, num_iters=num_ar_iters\n",
        ")"
      ]
    },
    {
      "cell_type": "markdown",
      "id": "thorough-identity",
      "metadata": {
        "id": "thorough-identity"
      },
      "source": [
        "## Fitting the full model\n",
        "\n",
        "The following code fits a full keypoint-MoSeq model using the results of AR-HMM fitting for initialization. If using your own data, you may need to try a few values of kappa at this step."
      ]
    },
    {
      "cell_type": "code",
      "execution_count": null,
      "id": "swiss-repeat",
      "metadata": {
        "id": "swiss-repeat"
      },
      "outputs": [],
      "source": [
        "# load model checkpoint\n",
        "model, data, metadata, current_iter = kpms.load_checkpoint(\n",
        "    project_dir, model_name, iteration=num_ar_iters\n",
        ")\n",
        "\n",
        "# modify kappa to maintain the desired syllable time-scale\n",
        "model = kpms.update_hypparams(model, kappa=1e4)\n",
        "\n",
        "# run fitting for an additional 500 iters\n",
        "model = kpms.fit_model(\n",
        "    model,\n",
        "    data,\n",
        "    metadata,\n",
        "    project_dir,\n",
        "    model_name,\n",
        "    ar_only=False,\n",
        "    start_iter=current_iter,\n",
        "    num_iters=current_iter + 500,\n",
        ")[0]"
      ]
    },
    {
      "cell_type": "markdown",
      "id": "0837e0ad",
      "metadata": {
        "id": "0837e0ad"
      },
      "source": [
        "## Sort syllables by frequency\n",
        "\n",
        "Permute the states and parameters of a saved checkpoint so that syllables are labeled in order of frequency (i.e. so that `0` is the most frequent, `1` is the second most, and so on)."
      ]
    },
    {
      "cell_type": "code",
      "execution_count": null,
      "id": "902ccabf",
      "metadata": {
        "id": "902ccabf"
      },
      "outputs": [],
      "source": [
        "# modify a saved checkpoint so syllables are ordered by frequency\n",
        "kpms.reindex_syllables_in_checkpoint(project_dir, model_name);"
      ]
    },
    {
      "cell_type": "markdown",
      "id": "bc027d4a",
      "metadata": {
        "id": "bc027d4a"
      },
      "source": [
        "```{warning}\n",
        "Reindexing is only applied to the checkpoint file. Therefore, if you perform this step after extracting the modeling results or generating vizualizations, then those steps must be repeated.\n",
        "```"
      ]
    },
    {
      "cell_type": "markdown",
      "id": "79951b99",
      "metadata": {
        "id": "79951b99"
      },
      "source": [
        "## Extract model results\n",
        "\n",
        "Parse the modeling results and save them to `{project_dir}/{model_name}/results.h5`. The results are stored as follows, and can be reloaded at a later time using `kpms.load_results`. Check the docs for an [in-depth explanation of the modeling results](https://keypoint-moseq.readthedocs.io/en/latest/FAQs.html#interpreting-model-outputs).\n",
        "```\n",
        "    results.h5\n",
        "    ├──recording_name1\n",
        "    │  ├──syllable      # syllable labels (z)\n",
        "    │  ├──latent_state  # inferred low-dim pose state (x)\n",
        "    │  ├──centroid      # inferred centroid (v)\n",
        "    │  └──heading       # inferred heading (h)\n",
        "    ⋮\n",
        "```"
      ]
    },
    {
      "cell_type": "code",
      "execution_count": null,
      "id": "d8abffb5",
      "metadata": {
        "id": "d8abffb5"
      },
      "outputs": [],
      "source": [
        "# load the most recent model checkpoint\n",
        "model, data, metadata, current_iter = kpms.load_checkpoint(project_dir, model_name)\n",
        "\n",
        "# extract results\n",
        "results = kpms.extract_results(model, metadata, project_dir, model_name)"
      ]
    },
    {
      "cell_type": "markdown",
      "id": "a37f9d42",
      "metadata": {
        "id": "a37f9d42"
      },
      "source": [
        "### [Optional] Save results to csv\n",
        "\n",
        "After extracting to an h5 file, the results can also be saved as csv files. A separate file will be created for each recording and saved to `{project_dir}/{model_name}/results/`."
      ]
    },
    {
      "cell_type": "code",
      "execution_count": null,
      "id": "0ceea1e2",
      "metadata": {
        "id": "0ceea1e2"
      },
      "outputs": [],
      "source": [
        "# optionally save results as csv\n",
        "kpms.save_results_as_csv(results, project_dir, model_name)"
      ]
    },
    {
      "cell_type": "markdown",
      "id": "empty-houston",
      "metadata": {
        "id": "empty-houston"
      },
      "source": [
        "## Apply to new data\n",
        "\n",
        "The code below shows how to apply a trained model to new data. This is useful if you have performed new experiments and would like to maintain an existing set of syllables. The results for the new experiments will be added to the existing `results.h5` file. **This step is optional and can be skipped if you do not have new data to add**."
      ]
    },
    {
      "cell_type": "code",
      "execution_count": null,
      "id": "abae55fd",
      "metadata": {
        "id": "abae55fd"
      },
      "outputs": [],
      "source": [
        "# load the most recent model checkpoint and pca object\n",
        "# model = kpms.load_checkpoint(project_dir, model_name)[0]\n",
        "\n",
        "# # load new data (e.g. from deeplabcut)\n",
        "# new_data = 'path/to/new/data/' # can be a file, a directory, or a list of files\n",
        "# coordinates, confidences, bodyparts = kpms.load_keypoints(new_data, 'deeplabcut')\n",
        "# data, metadata = kpms.format_data(coordinates, confidences, **config())\n",
        "\n",
        "# # apply saved model to new data\n",
        "# results = kpms.apply_model(model, data, metadata, project_dir, model_name, **config())\n",
        "\n",
        "# optionally rerun `save_results_as_csv` to export the new results\n",
        "# kpms.save_results_as_csv(results, project_dir, model_name)"
      ]
    },
    {
      "cell_type": "markdown",
      "id": "breeding-fashion",
      "metadata": {
        "id": "breeding-fashion"
      },
      "source": [
        "# Visualization"
      ]
    },
    {
      "cell_type": "markdown",
      "id": "a2491a0d",
      "metadata": {
        "id": "a2491a0d"
      },
      "source": [
        "## Trajectory plots\n",
        "Generate plots showing the median trajectory of poses associated with each given syllable."
      ]
    },
    {
      "cell_type": "code",
      "execution_count": null,
      "id": "subject-disney",
      "metadata": {
        "id": "subject-disney"
      },
      "outputs": [],
      "source": [
        "results = kpms.load_results(project_dir, model_name)\n",
        "kpms.generate_trajectory_plots(coordinates, results, project_dir, model_name, **config())"
      ]
    },
    {
      "cell_type": "markdown",
      "id": "617a66ed",
      "metadata": {
        "id": "617a66ed"
      },
      "source": [
        "## Grid movies\n",
        "Generate video clips showing examples of each syllable.\n",
        "\n",
        "*Note: the code below will only work with 2D data. For 3D data, see the [FAQ](https://keypoint-moseq.readthedocs.io/en/latest/FAQs.html#making-grid-movies-for-3d-data).*"
      ]
    },
    {
      "cell_type": "code",
      "execution_count": null,
      "id": "dominant-packet",
      "metadata": {
        "id": "dominant-packet"
      },
      "outputs": [],
      "source": [
        "kpms.generate_grid_movies(results, project_dir, model_name, coordinates=coordinates, **config());"
      ]
    },
    {
      "cell_type": "markdown",
      "id": "d670667d",
      "metadata": {
        "id": "d670667d"
      },
      "source": [
        "## Syllable Dendrogram\n",
        "Plot a dendrogram representing distances between each syllable's median trajectory."
      ]
    },
    {
      "cell_type": "code",
      "execution_count": null,
      "id": "81a324c4",
      "metadata": {
        "id": "81a324c4"
      },
      "outputs": [],
      "source": [
        "kpms.plot_similarity_dendrogram(coordinates, results, project_dir, model_name, **config())"
      ]
    }
  ],
  "metadata": {
    "kernelspec": {
      "display_name": "keypoint_moseq",
      "language": "python",
      "name": "keypoint_moseq"
    },
    "language_info": {
      "codemirror_mode": {
        "name": "ipython",
        "version": 3
      },
      "file_extension": ".py",
      "mimetype": "text/x-python",
      "name": "python",
      "nbconvert_exporter": "python",
      "pygments_lexer": "ipython3",
      "version": "3.9.16"
    },
    "varInspector": {
      "cols": {
        "lenName": 16,
        "lenType": 16,
        "lenVar": 40
      },
      "kernels_config": {
        "python": {
          "delete_cmd_postfix": "",
          "delete_cmd_prefix": "del ",
          "library": "var_list.py",
          "varRefreshCmd": "print(var_dic_list())"
        },
        "r": {
          "delete_cmd_postfix": ") ",
          "delete_cmd_prefix": "rm(",
          "library": "var_list.r",
          "varRefreshCmd": "cat(var_dic_list()) "
        }
      },
      "types_to_exclude": [
        "module",
        "function",
        "builtin_function_or_method",
        "instance",
        "_Feature"
      ],
      "window_display": false
    },
    "colab": {
      "provenance": []
    }
  },
  "nbformat": 4,
  "nbformat_minor": 5
}